{
 "cells": [
  {
   "metadata": {},
   "cell_type": "markdown",
   "source": [
    "# Data Cleaning\n",
    "\n",
    "Goals for this notebook:\n",
    " - Handle missing values\n",
    " - Drop high missing value features\n",
    " - impute values for columns\n",
    " - identify and remove outliers"
   ],
   "id": "f62fe5dab1bf08ef"
  },
  {
   "cell_type": "code",
   "id": "initial_id",
   "metadata": {
    "collapsed": true,
    "ExecuteTime": {
     "end_time": "2025-06-22T02:58:14.967819Z",
     "start_time": "2025-06-22T02:58:14.931313Z"
    }
   },
   "source": [
    "import pandas as pd\n",
    "import numpy as np\n",
    "import seaborn as sns\n",
    "import matplotlib.pyplot as plt\n",
    "\n",
    "# Load raw data\n",
    "df = pd.read_csv('../data/train.csv')\n",
    "print(f\"Shape before cleaning: {df.shape}\")\n"
   ],
   "outputs": [
    {
     "name": "stdout",
     "output_type": "stream",
     "text": [
      "Shape before cleaning: (1460, 81)\n"
     ]
    }
   ],
   "execution_count": 1
  },
  {
   "metadata": {},
   "cell_type": "markdown",
   "source": "## Check Missing Values",
   "id": "2e59c1360172389"
  },
  {
   "metadata": {
    "ExecuteTime": {
     "end_time": "2025-06-22T02:58:15.262474Z",
     "start_time": "2025-06-22T02:58:15.236661Z"
    }
   },
   "cell_type": "code",
   "source": [
    "# Count missing values\n",
    "missing = df.isnull().sum()\n",
    "missing = missing[missing > 0].sort_values(ascending=False)\n",
    "missing_percent = (missing / len(df)) * 100\n",
    "\n",
    "# Display top missing\n",
    "missing_df = pd.DataFrame({'Missing Count': missing, '% Missing': missing_percent})\n",
    "missing_df.head(20)\n"
   ],
   "id": "ecf92e8e6785b8f8",
   "outputs": [
    {
     "data": {
      "text/plain": [
       "              Missing Count  % Missing\n",
       "PoolQC                 1453  99.520548\n",
       "MiscFeature            1406  96.301370\n",
       "Alley                  1369  93.767123\n",
       "Fence                  1179  80.753425\n",
       "MasVnrType              872  59.726027\n",
       "FireplaceQu             690  47.260274\n",
       "LotFrontage             259  17.739726\n",
       "GarageType               81   5.547945\n",
       "GarageYrBlt              81   5.547945\n",
       "GarageFinish             81   5.547945\n",
       "GarageQual               81   5.547945\n",
       "GarageCond               81   5.547945\n",
       "BsmtExposure             38   2.602740\n",
       "BsmtFinType2             38   2.602740\n",
       "BsmtQual                 37   2.534247\n",
       "BsmtCond                 37   2.534247\n",
       "BsmtFinType1             37   2.534247\n",
       "MasVnrArea                8   0.547945\n",
       "Electrical                1   0.068493"
      ],
      "text/html": [
       "<div>\n",
       "<style scoped>\n",
       "    .dataframe tbody tr th:only-of-type {\n",
       "        vertical-align: middle;\n",
       "    }\n",
       "\n",
       "    .dataframe tbody tr th {\n",
       "        vertical-align: top;\n",
       "    }\n",
       "\n",
       "    .dataframe thead th {\n",
       "        text-align: right;\n",
       "    }\n",
       "</style>\n",
       "<table border=\"1\" class=\"dataframe\">\n",
       "  <thead>\n",
       "    <tr style=\"text-align: right;\">\n",
       "      <th></th>\n",
       "      <th>Missing Count</th>\n",
       "      <th>% Missing</th>\n",
       "    </tr>\n",
       "  </thead>\n",
       "  <tbody>\n",
       "    <tr>\n",
       "      <th>PoolQC</th>\n",
       "      <td>1453</td>\n",
       "      <td>99.520548</td>\n",
       "    </tr>\n",
       "    <tr>\n",
       "      <th>MiscFeature</th>\n",
       "      <td>1406</td>\n",
       "      <td>96.301370</td>\n",
       "    </tr>\n",
       "    <tr>\n",
       "      <th>Alley</th>\n",
       "      <td>1369</td>\n",
       "      <td>93.767123</td>\n",
       "    </tr>\n",
       "    <tr>\n",
       "      <th>Fence</th>\n",
       "      <td>1179</td>\n",
       "      <td>80.753425</td>\n",
       "    </tr>\n",
       "    <tr>\n",
       "      <th>MasVnrType</th>\n",
       "      <td>872</td>\n",
       "      <td>59.726027</td>\n",
       "    </tr>\n",
       "    <tr>\n",
       "      <th>FireplaceQu</th>\n",
       "      <td>690</td>\n",
       "      <td>47.260274</td>\n",
       "    </tr>\n",
       "    <tr>\n",
       "      <th>LotFrontage</th>\n",
       "      <td>259</td>\n",
       "      <td>17.739726</td>\n",
       "    </tr>\n",
       "    <tr>\n",
       "      <th>GarageType</th>\n",
       "      <td>81</td>\n",
       "      <td>5.547945</td>\n",
       "    </tr>\n",
       "    <tr>\n",
       "      <th>GarageYrBlt</th>\n",
       "      <td>81</td>\n",
       "      <td>5.547945</td>\n",
       "    </tr>\n",
       "    <tr>\n",
       "      <th>GarageFinish</th>\n",
       "      <td>81</td>\n",
       "      <td>5.547945</td>\n",
       "    </tr>\n",
       "    <tr>\n",
       "      <th>GarageQual</th>\n",
       "      <td>81</td>\n",
       "      <td>5.547945</td>\n",
       "    </tr>\n",
       "    <tr>\n",
       "      <th>GarageCond</th>\n",
       "      <td>81</td>\n",
       "      <td>5.547945</td>\n",
       "    </tr>\n",
       "    <tr>\n",
       "      <th>BsmtExposure</th>\n",
       "      <td>38</td>\n",
       "      <td>2.602740</td>\n",
       "    </tr>\n",
       "    <tr>\n",
       "      <th>BsmtFinType2</th>\n",
       "      <td>38</td>\n",
       "      <td>2.602740</td>\n",
       "    </tr>\n",
       "    <tr>\n",
       "      <th>BsmtQual</th>\n",
       "      <td>37</td>\n",
       "      <td>2.534247</td>\n",
       "    </tr>\n",
       "    <tr>\n",
       "      <th>BsmtCond</th>\n",
       "      <td>37</td>\n",
       "      <td>2.534247</td>\n",
       "    </tr>\n",
       "    <tr>\n",
       "      <th>BsmtFinType1</th>\n",
       "      <td>37</td>\n",
       "      <td>2.534247</td>\n",
       "    </tr>\n",
       "    <tr>\n",
       "      <th>MasVnrArea</th>\n",
       "      <td>8</td>\n",
       "      <td>0.547945</td>\n",
       "    </tr>\n",
       "    <tr>\n",
       "      <th>Electrical</th>\n",
       "      <td>1</td>\n",
       "      <td>0.068493</td>\n",
       "    </tr>\n",
       "  </tbody>\n",
       "</table>\n",
       "</div>"
      ]
     },
     "execution_count": 2,
     "metadata": {},
     "output_type": "execute_result"
    }
   ],
   "execution_count": 2
  },
  {
   "metadata": {},
   "cell_type": "markdown",
   "source": "## Drop Features with >20% Missing",
   "id": "a8c2fd7a262ba2bd"
  },
  {
   "metadata": {
    "ExecuteTime": {
     "end_time": "2025-06-22T02:58:15.364475Z",
     "start_time": "2025-06-22T02:58:15.355852Z"
    }
   },
   "cell_type": "code",
   "source": [
    "to_drop = missing_percent[missing_percent > 20].index\n",
    "df = df.drop(columns=to_drop)\n",
    "print(f\"Dropped: {list(to_drop)}\")\n"
   ],
   "id": "13f2a606599d8bd2",
   "outputs": [
    {
     "name": "stdout",
     "output_type": "stream",
     "text": [
      "Dropped: ['PoolQC', 'MiscFeature', 'Alley', 'Fence', 'MasVnrType', 'FireplaceQu']\n"
     ]
    }
   ],
   "execution_count": 3
  },
  {
   "metadata": {},
   "cell_type": "markdown",
   "source": [
    "## Impute remaining missing values\n",
    "\n",
    "- Categorical - Fill with 'None'\n",
    "- Numerical - Fill with median"
   ],
   "id": "67a6d8623751d601"
  },
  {
   "metadata": {
    "ExecuteTime": {
     "end_time": "2025-06-22T02:58:15.487390Z",
     "start_time": "2025-06-22T02:58:15.438817Z"
    }
   },
   "cell_type": "code",
   "source": [
    "# Fill categorical with 'None'\n",
    "cat_cols = df.select_dtypes(include='object').columns\n",
    "df[cat_cols] = df[cat_cols].fillna('None')\n",
    "\n",
    "# Fill numeric with median\n",
    "num_cols = df.select_dtypes(include=np.number).columns\n",
    "df[num_cols] = df[num_cols].fillna(df[num_cols].median())\n",
    "\n",
    "# Verify missing values are gone\n",
    "df.isnull().sum().sum()\n"
   ],
   "id": "88c229883dc808a1",
   "outputs": [
    {
     "data": {
      "text/plain": [
       "np.int64(0)"
      ]
     },
     "execution_count": 4,
     "metadata": {},
     "output_type": "execute_result"
    }
   ],
   "execution_count": 4
  },
  {
   "metadata": {},
   "cell_type": "markdown",
   "source": "## Detect and Remove Outliers for GrLivArea",
   "id": "564f658813d45289"
  },
  {
   "metadata": {
    "ExecuteTime": {
     "end_time": "2025-06-22T02:58:15.888622Z",
     "start_time": "2025-06-22T02:58:15.613094Z"
    }
   },
   "cell_type": "code",
   "source": [
    "sns.scatterplot(data=df, x='GrLivArea', y='SalePrice')\n",
    "plt.title(\"GrLivArea vs SalePrice (Before Outlier Removal)\")\n",
    "plt.show()\n"
   ],
   "id": "4e1bdfc06ef5ce4a",
   "outputs": [
    {
     "data": {
      "text/plain": [
       "<Figure size 640x480 with 1 Axes>"
      ],
      "image/png": "[encoded data removed]"
     },
     "metadata": {},
     "output_type": "display_data"
    }
   ],
   "execution_count": 5
  },
  {
   "metadata": {
    "ExecuteTime": {
     "end_time": "2025-06-22T02:58:15.915793Z",
     "start_time": "2025-06-22T02:58:15.902420Z"
    }
   },
   "cell_type": "code",
   "source": [
    "# Remove outliers: very large area with low price\n",
    "df = df[~((df['GrLivArea'] > 4000) & (df['SalePrice'] < 300000))]\n",
    "print(f\"Shape after outlier removal: {df.shape}\")\n"
   ],
   "id": "c70aa7194a532d55",
   "outputs": [
    {
     "name": "stdout",
     "output_type": "stream",
     "text": [
      "Shape after outlier removal: (1458, 75)\n"
     ]
    }
   ],
   "execution_count": 6
  },
  {
   "metadata": {},
   "cell_type": "markdown",
   "source": "## Saving Cleaned Dataset",
   "id": "fb28a3a8587ed5f7"
  },
  {
   "metadata": {
    "ExecuteTime": {
     "end_time": "2025-06-22T02:58:16.043744Z",
     "start_time": "2025-06-22T02:58:15.999423Z"
    }
   },
   "cell_type": "code",
   "source": [
    "df.to_csv('../data/cleaned_train.csv', index=False)\n",
    "print(\"Cleaned data saved to /data/cleaned_train.csv\")\n"
   ],
   "id": "32eba80db032c2e",
   "outputs": [
    {
     "name": "stdout",
     "output_type": "stream",
     "text": [
      "Cleaned data saved to /data/cleaned_train.csv\n"
     ]
    }
   ],
   "execution_count": 7
  },
  {
   "metadata": {},
   "cell_type": "markdown",
   "source": [
    "## Summary\n",
    "\n",
    "- Dropped features with a lot of missing data\n",
    "- Imputed remaining missing values (categorical: 'None' and numerical: median)\n",
    "- Removed known outlier (GrLivArea > 4000 & SalePrice < 300k)\n"
   ],
   "id": "22c87743bdb28030"
  }
 ],
 "metadata": {
  "kernelspec": {
   "display_name": "Python 3",
   "language": "python",
   "name": "python3"
  },
  "language_info": {
   "codemirror_mode": {
    "name": "ipython",
    "version": 2
   },
   "file_extension": ".py",
   "mimetype": "text/x-python",
   "name": "python",
   "nbconvert_exporter": "python",
   "pygments_lexer": "ipython2",
   "version": "2.7.6"
  }
 },
 "nbformat": 4,
 "nbformat_minor": 5
}

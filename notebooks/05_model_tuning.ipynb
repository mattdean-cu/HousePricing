{
 "cells": [
  {
   "metadata": {},
   "cell_type": "markdown",
   "source": [
    "# Hyperparameter Tuning\n",
    "This notebook performs hyperparameter tuning using 'GridSearchCV' on the best performing models from the last notebook:\n",
    " - Ridge Regression(alpha - regularization strength)\n",
    " - Gradient Boosting Regressor(learning rate - how much each tree adjusts predictions, n_estimators - number of boosting rounds(trees))\n",
    " - Random Forest(n_estimators - number of trees in the forest, max depth - depth of each tree)"
   ],
   "id": "62f9a822a6174144"
  },
  {
   "cell_type": "code",
   "id": "initial_id",
   "metadata": {
    "collapsed": true,
    "ExecuteTime": {
     "end_time": "2025-06-28T16:43:48.779450Z",
     "start_time": "2025-06-28T16:43:48.048645Z"
    }
   },
   "source": [
    "import pandas as pd\n",
    "import numpy as np\n",
    "from sklearn.model_selection import GridSearchCV, cross_val_score\n",
    "from sklearn.metrics import mean_squared_error, make_scorer\n",
    "from sklearn.linear_model import Ridge\n",
    "from sklearn.ensemble import GradientBoostingRegressor\n",
    "\n",
    "# Load processed data\n",
    "df = pd.read_csv('../data/processed_train.csv')\n",
    "\n",
    "X = df.drop('SalePrice', axis=1)\n",
    "y = df['SalePrice']\n"
   ],
   "outputs": [],
   "execution_count": 1
  },
  {
   "metadata": {},
   "cell_type": "markdown",
   "source": "## RMSE Scorer",
   "id": "3da1e6560ef5760f"
  },
  {
   "metadata": {
    "ExecuteTime": {
     "end_time": "2025-06-28T16:43:49.280630Z",
     "start_time": "2025-06-28T16:43:49.252344Z"
    }
   },
   "cell_type": "code",
   "source": [
    "from sklearn.metrics import mean_squared_error, make_scorer\n",
    "import numpy as np\n",
    "\n",
    "def rmse(y_true, y_pred):\n",
    "    return np.sqrt(mean_squared_error(y_true, y_pred))\n",
    "\n",
    "rmse_scorer = make_scorer(rmse, greater_is_better=False)\n"
   ],
   "id": "11675b6b064a6ddf",
   "outputs": [],
   "execution_count": 2
  },
  {
   "metadata": {},
   "cell_type": "markdown",
   "source": "## Ridge Regression Tuning",
   "id": "bfe3642294edfc0a"
  },
  {
   "metadata": {
    "ExecuteTime": {
     "end_time": "2025-06-28T16:43:50.126125Z",
     "start_time": "2025-06-28T16:43:49.333550Z"
    }
   },
   "cell_type": "code",
   "source": [
    "ridge_params = {'alpha': [0.1, 1, 10, 50, 100, 200]}\n",
    "ridge = Ridge()\n",
    "\n",
    "ridge_grid = GridSearchCV(ridge, ridge_params, cv=5, scoring=rmse_scorer)\n",
    "ridge_grid.fit(X, y)\n",
    "\n",
    "print(\"Best Ridge Params:\", ridge_grid.best_params_)\n",
    "print(\"Best Ridge RMSE:\", -ridge_grid.best_score_)\n"
   ],
   "id": "d4a0f5a6ee0a6360",
   "outputs": [
    {
     "name": "stdout",
     "output_type": "stream",
     "text": [
      "Best Ridge Params: {'alpha': 10}\n",
      "Best Ridge RMSE: 0.11366688333139538\n"
     ]
    }
   ],
   "execution_count": 3
  },
  {
   "metadata": {},
   "cell_type": "markdown",
   "source": "## Gradient Boosting Tuning",
   "id": "70dfb02c1b4c9e21"
  },
  {
   "metadata": {
    "ExecuteTime": {
     "end_time": "2025-06-28T16:50:17.899250Z",
     "start_time": "2025-06-28T16:43:50.188112Z"
    }
   },
   "cell_type": "code",
   "source": [
    "gb_params = {\n",
    "    'n_estimators': [100, 200],\n",
    "    'learning_rate': [0.01, 0.05, 0.1],\n",
    "    'max_depth': [3, 4, 5]\n",
    "}\n",
    "\n",
    "gbr = GradientBoostingRegressor()\n",
    "gbr_grid = GridSearchCV(gbr, gb_params, cv=5, scoring=rmse_scorer)\n",
    "gbr_grid.fit(X, y)\n",
    "\n",
    "print(\"Best GBR Params:\", gbr_grid.best_params_)\n",
    "print(\"Best GBR RMSE:\", -gbr_grid.best_score_)\n"
   ],
   "id": "b13c10c86535d121",
   "outputs": [
    {
     "name": "stdout",
     "output_type": "stream",
     "text": [
      "Best GBR Params: {'learning_rate': 0.1, 'max_depth': 3, 'n_estimators': 200}\n",
      "Best GBR RMSE: 0.1212803752415049\n"
     ]
    }
   ],
   "execution_count": 4
  },
  {
   "metadata": {},
   "cell_type": "markdown",
   "source": "## Random Forest Hyperparameter Tuning",
   "id": "fa7ee5d5944ef3f"
  },
  {
   "metadata": {
    "ExecuteTime": {
     "end_time": "2025-06-28T16:53:37.479329Z",
     "start_time": "2025-06-28T16:53:19.405093Z"
    }
   },
   "cell_type": "code",
   "source": [
    "from sklearn.ensemble import RandomForestRegressor\n",
    "\n",
    "rf_params = {\n",
    "    'n_estimators': [100, 200],\n",
    "    'max_depth': [None, 10, 20],\n",
    "    'max_features': ['sqrt', 'log2'],\n",
    "    'min_samples_split': [2, 5],\n",
    "    'min_samples_leaf': [1, 2]\n",
    "}\n",
    "\n",
    "rf = RandomForestRegressor(random_state=42)\n",
    "rf_grid = GridSearchCV(rf, rf_params, cv=5, scoring=rmse_scorer, n_jobs=-1)\n",
    "rf_grid.fit(X, y)\n",
    "\n",
    "print(\"Best RF Params:\", rf_grid.best_params_)\n",
    "print(\"Best RF RMSE:\", -rf_grid.best_score_)\n"
   ],
   "id": "ef126897768fbbb3",
   "outputs": [
    {
     "name": "stdout",
     "output_type": "stream",
     "text": [
      "Best RF Params: {'max_depth': None, 'max_features': 'sqrt', 'min_samples_leaf': 1, 'min_samples_split': 2, 'n_estimators': 200}\n",
      "Best RF RMSE: 0.14244856496705519\n"
     ]
    }
   ],
   "execution_count": 8
  },
  {
   "metadata": {},
   "cell_type": "markdown",
   "source": "## Compare All final tuned results",
   "id": "950c33e8d582ecf7"
  },
  {
   "metadata": {
    "ExecuteTime": {
     "end_time": "2025-06-28T16:53:48.345099Z",
     "start_time": "2025-06-28T16:53:48.325732Z"
    }
   },
   "cell_type": "code",
   "source": [
    "ridge_best_rmse = -ridge_grid.best_score_\n",
    "gbr_best_rmse = -gbr_grid.best_score_\n",
    "rf_best_rmse = -rf_grid.best_score_\n",
    "\n",
    "print(f\"Ridge Best RMSE: {ridge_best_rmse:.4f}\")\n",
    "print(f\"Gradient Boosting Best RMSE: {gbr_best_rmse:.4f}\")\n",
    "print(f\"Random Forest Best RMSE: {rf_best_rmse:.4f}\")\n"
   ],
   "id": "5f0aa095e5323ed4",
   "outputs": [
    {
     "name": "stdout",
     "output_type": "stream",
     "text": [
      "Ridge Best RMSE: 0.1137\n",
      "Gradient Boosting Best RMSE: 0.1213\n",
      "Random Forest Best RMSE: 0.1424\n"
     ]
    }
   ],
   "execution_count": 9
  },
  {
   "metadata": {},
   "cell_type": "markdown",
   "source": [
    "## Summary\n",
    " - All three models were tuned using GridSearchCV\n",
    " - Best RMSEs:\n",
    "  - Ridge:\n",
    "  - Gradient Boosting:\n",
    "  - Random Forest:\n",
    " - What's Next: Using"
   ],
   "id": "ada14d50e4049577"
  }
 ],
 "metadata": {
  "kernelspec": {
   "display_name": "Python 3",
   "language": "python",
   "name": "python3"
  },
  "language_info": {
   "codemirror_mode": {
    "name": "ipython",
    "version": 2
   },
   "file_extension": ".py",
   "mimetype": "text/x-python",
   "name": "python",
   "nbconvert_exporter": "python",
   "pygments_lexer": "ipython2",
   "version": "2.7.6"
  }
 },
 "nbformat": 4,
 "nbformat_minor": 5
}

{
 "cells": [
  {
   "metadata": {},
   "cell_type": "markdown",
   "source": [
    "# Final Evaluation/Submission - House Pricing\n",
    "\n",
    "This notebook:\n",
    " - trains the best models on the full training data\n",
    " - makes predictions on the test set\n",
    " - reverses log transformation\n",
    " - saves prediction for kaggle"
   ],
   "id": "46455677bf6e4353"
  },
  {
   "cell_type": "code",
   "id": "initial_id",
   "metadata": {
    "collapsed": true,
    "ExecuteTime": {
     "end_time": "2025-06-28T20:44:55.235902Z",
     "start_time": "2025-06-28T20:44:54.825378Z"
    }
   },
   "source": [
    "import pandas as pd\n",
    "import numpy as np\n",
    "from sklearn.linear_model import Ridge\n",
    "from sklearn.ensemble import GradientBoostingRegressor\n",
    "from sklearn.tree import DecisionTreeRegressor\n",
    "from xgboost import XGBRegressor\n",
    "from lightgbm import LGBMRegressor\n",
    "# Reverse log1p after prediction\n",
    "def reverse_log(preds_log):\n",
    "    return np.expm1(preds_log)\n",
    "reverse_log = lambda x: np.expm1(x)\n"
   ],
   "outputs": [],
   "execution_count": 1
  },
  {
   "metadata": {},
   "cell_type": "markdown",
   "source": "## Preprocess Test Data",
   "id": "d823ec8a8412ce09"
  },
  {
   "metadata": {
    "ExecuteTime": {
     "end_time": "2025-06-28T20:44:55.651915Z",
     "start_time": "2025-06-28T20:44:55.509679Z"
    }
   },
   "cell_type": "code",
   "source": [
    "train_df = pd.read_csv('../data/processed_train.csv')\n",
    "X_train = train_df.drop('SalePrice', axis=1)\n",
    "y_train = train_df['SalePrice']\n",
    "\n",
    "# Load original test set for prediction\n",
    "test_ids = pd.read_csv('../data/test.csv')['Id']\n",
    "test_raw = pd.read_csv('../data/test.csv')\n",
    "\n",
    "# Drop same columns removed in cleaning\n",
    "cols_to_drop = ['Alley', 'PoolQC', 'Fence', 'MiscFeature', 'FireplaceQu']\n",
    "test_raw = test_raw.drop(columns=cols_to_drop)\n",
    "\n",
    "# Fill missing values\n",
    "cat_cols = test_raw.select_dtypes(include='object').columns\n",
    "test_raw[cat_cols] = test_raw[cat_cols].fillna('None')\n",
    "\n",
    "num_cols = test_raw.select_dtypes(include=np.number).columns\n",
    "test_raw[num_cols] = test_raw[num_cols].fillna(test_raw[num_cols].median())\n",
    "\n",
    "# Log-transform skewed features\n",
    "skewed_features = [\n",
    "    'LotFrontage', 'LotArea', 'MasVnrArea', 'BsmtFinSF1', 'BsmtFinSF2',\n",
    "    'BsmtUnfSF', 'TotalBsmtSF', '1stFlrSF', '2ndFlrSF', 'GrLivArea',\n",
    "    'GarageArea', 'WoodDeckSF', 'OpenPorchSF', 'EnclosedPorch',\n",
    "    '3SsnPorch', 'ScreenPorch', 'MiscVal'\n",
    "]\n",
    "for feature in skewed_features:\n",
    "    if feature in test_raw.columns:\n",
    "        test_raw[feature] = np.log1p(test_raw[feature])\n",
    "\n",
    "# One-hot encode and align\n",
    "test_encoded = pd.get_dummies(test_raw, drop_first=True)\n",
    "X_test = test_encoded.reindex(columns=X_train.columns, fill_value=0)\n"
   ],
   "id": "71e05d3002f78104",
   "outputs": [],
   "execution_count": 2
  },
  {
   "metadata": {},
   "cell_type": "markdown",
   "source": "# Train Final Ridge Model on full training data",
   "id": "73c82efdc418ffb3"
  },
  {
   "metadata": {
    "ExecuteTime": {
     "end_time": "2025-06-28T20:44:55.744782Z",
     "start_time": "2025-06-28T20:44:55.710075Z"
    }
   },
   "cell_type": "code",
   "source": [
    "ridge = Ridge(alpha=10)\n",
    "ridge.fit(X_train, y_train)\n",
    "ridge_preds = reverse_log(ridge.predict(X_test))\n",
    "\n",
    "submission_ridge = pd.DataFrame({'Id': test_ids, 'SalePrice': ridge_preds})\n",
    "submission_ridge.to_csv('../data/submission_ridge.csv', index=False)\n",
    "print(\"✅ Ridge submission saved.\")\n"
   ],
   "id": "98d0895a510692bb",
   "outputs": [
    {
     "name": "stdout",
     "output_type": "stream",
     "text": [
      "✅ Ridge submission saved.\n"
     ]
    }
   ],
   "execution_count": 3
  },
  {
   "metadata": {},
   "cell_type": "markdown",
   "source": "## Gradient Boosting Model",
   "id": "77abe6753be8c575"
  },
  {
   "metadata": {
    "ExecuteTime": {
     "end_time": "2025-06-28T20:44:57.314587Z",
     "start_time": "2025-06-28T20:44:55.816188Z"
    }
   },
   "cell_type": "code",
   "source": [
    "gbr = GradientBoostingRegressor(n_estimators=100, learning_rate=0.1, max_depth=3, random_state=42)\n",
    "gbr.fit(X_train, y_train)\n",
    "gbr_preds = reverse_log(gbr.predict(X_test))\n",
    "\n",
    "submission_gbr = pd.DataFrame({'Id': test_ids, 'SalePrice': gbr_preds})\n",
    "submission_gbr.to_csv('../data/submission_gbr.csv', index=False)\n",
    "print(\"✅ Gradient Boosting submission saved.\")\n"
   ],
   "id": "f60833acd5af53af",
   "outputs": [
    {
     "name": "stdout",
     "output_type": "stream",
     "text": [
      "✅ Gradient Boosting submission saved.\n"
     ]
    }
   ],
   "execution_count": 4
  },
  {
   "metadata": {},
   "cell_type": "markdown",
   "source": "## Decision Tree Model",
   "id": "fefcf96e7ffcdea7"
  },
  {
   "metadata": {
    "ExecuteTime": {
     "end_time": "2025-06-28T20:44:57.455083Z",
     "start_time": "2025-06-28T20:44:57.403781Z"
    }
   },
   "cell_type": "code",
   "source": [
    "tree = DecisionTreeRegressor(max_depth=5, min_samples_leaf=3, random_state=42)\n",
    "tree.fit(X_train, y_train)\n",
    "tree_preds = reverse_log(tree.predict(X_test))\n",
    "\n",
    "submission_tree = pd.DataFrame({'Id': test_ids, 'SalePrice': tree_preds})\n",
    "submission_tree.to_csv('../data/submission_tree.csv', index=False)\n",
    "print(\"✅ Decision Tree submission saved.\")\n"
   ],
   "id": "3d3d903fbc6d55c",
   "outputs": [
    {
     "name": "stdout",
     "output_type": "stream",
     "text": [
      "✅ Decision Tree submission saved.\n"
     ]
    }
   ],
   "execution_count": 5
  },
  {
   "metadata": {
    "ExecuteTime": {
     "end_time": "2025-06-28T20:44:57.558290Z",
     "start_time": "2025-06-28T20:44:57.553200Z"
    }
   },
   "cell_type": "code",
   "source": "## XGBoost",
   "id": "e1fc5770fea30472",
   "outputs": [],
   "execution_count": 6
  },
  {
   "metadata": {
    "ExecuteTime": {
     "end_time": "2025-06-28T20:44:58.276808Z",
     "start_time": "2025-06-28T20:44:57.648165Z"
    }
   },
   "cell_type": "code",
   "source": [
    "xgb = XGBRegressor(n_estimators=300, learning_rate=0.05, max_depth=3, random_state=42)\n",
    "xgb.fit(X_train, y_train)\n",
    "xgb_preds = reverse_log(xgb.predict(X_test))\n",
    "submission_xgb = pd.DataFrame({'Id': test_ids, 'SalePrice': xgb_preds})\n",
    "submission_xgb.to_csv('../data/submission_xgb.csv', index=False)"
   ],
   "id": "af0cb87ae73a286b",
   "outputs": [],
   "execution_count": 7
  },
  {
   "metadata": {},
   "cell_type": "markdown",
   "source": "## LightGBM",
   "id": "9c63f7cb076a18ec"
  },
  {
   "metadata": {
    "ExecuteTime": {
     "end_time": "2025-06-28T20:45:01.723411Z",
     "start_time": "2025-06-28T20:44:58.368983Z"
    }
   },
   "cell_type": "code",
   "source": [
    "lgb = LGBMRegressor(\n",
    "    n_estimators=300,\n",
    "    learning_rate=0.05,\n",
    "    num_leaves=31,\n",
    "    min_gain_to_split=0.0,\n",
    "    random_state=42\n",
    ")\n",
    "lgb.fit(X_train, y_train)\n",
    "lgb_preds = reverse_log(lgb.predict(X_test))\n",
    "submission_lgb = pd.DataFrame({'Id': test_ids, 'SalePrice': lgb_preds})\n",
    "submission_lgb.to_csv('../data/submission_lgb.csv', index=False)"
   ],
   "id": "38e7c87abac0ae5d",
   "outputs": [
    {
     "name": "stdout",
     "output_type": "stream",
     "text": [
      "[LightGBM] [Warning] min_gain_to_split is set=0.0, min_split_gain=0.0 will be ignored. Current value: min_gain_to_split=0.0\n",
      "[LightGBM] [Warning] Found whitespace in feature_names, replace with underlines\n",
      "[LightGBM] [Warning] min_gain_to_split is set=0.0, min_split_gain=0.0 will be ignored. Current value: min_gain_to_split=0.0\n",
      "[LightGBM] [Info] Auto-choosing col-wise multi-threading, the overhead of testing was 0.002789 seconds.\n",
      "You can set `force_col_wise=true` to remove the overhead.\n",
      "[LightGBM] [Info] Total Bins 3632\n",
      "[LightGBM] [Info] Number of data points in the train set: 1458, number of used features: 152\n",
      "[LightGBM] [Info] Start training from score 12.024015\n",
      "[LightGBM] [Warning] min_gain_to_split is set=0.0, min_split_gain=0.0 will be ignored. Current value: min_gain_to_split=0.0\n"
     ]
    }
   ],
   "execution_count": 8
  },
  {
   "metadata": {},
   "cell_type": "markdown",
   "source": "## Final Summary",
   "id": "7410399c4eb5088b"
  }
 ],
 "metadata": {
  "kernelspec": {
   "display_name": "Python 3",
   "language": "python",
   "name": "python3"
  },
  "language_info": {
   "codemirror_mode": {
    "name": "ipython",
    "version": 2
   },
   "file_extension": ".py",
   "mimetype": "text/x-python",
   "name": "python",
   "nbconvert_exporter": "python",
   "pygments_lexer": "ipython2",
   "version": "2.7.6"
  }
 },
 "nbformat": 4,
 "nbformat_minor": 5
}

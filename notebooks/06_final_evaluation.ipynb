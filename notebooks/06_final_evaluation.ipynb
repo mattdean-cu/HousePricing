{
 "cells": [
  {
   "metadata": {},
   "cell_type": "markdown",
   "source": [
    "# Final Evaluation/Submission - House Pricing\n",
    "\n",
    "This notebook:\n",
    " - trains the best model(ridge) on the full training data\n",
    " - makes predictions on the test set\n",
    " - reverses log transformation\n",
    " - saves prediction for kaggle"
   ],
   "id": "46455677bf6e4353"
  },
  {
   "cell_type": "code",
   "id": "initial_id",
   "metadata": {
    "collapsed": true,
    "ExecuteTime": {
     "end_time": "2025-06-28T17:14:25.716041Z",
     "start_time": "2025-06-28T17:14:25.312865Z"
    }
   },
   "source": [
    "import pandas as pd\n",
    "import numpy as np\n",
    "from sklearn.linear_model import Ridge\n",
    "\n",
    "# Load processed training data\n",
    "train_df = pd.read_csv('../data/processed_train.csv')\n",
    "\n",
    "# Load original test data\n",
    "test_raw = pd.read_csv('../data/test.csv')\n"
   ],
   "outputs": [],
   "execution_count": 1
  },
  {
   "metadata": {},
   "cell_type": "markdown",
   "source": "## Preprocess Test Data",
   "id": "d823ec8a8412ce09"
  },
  {
   "metadata": {
    "ExecuteTime": {
     "end_time": "2025-06-28T17:14:26.285493Z",
     "start_time": "2025-06-28T17:14:26.187204Z"
    }
   },
   "cell_type": "code",
   "source": [
    "# Load raw test set\n",
    "test_raw = pd.read_csv('../data/test.csv')\n",
    "\n",
    "# Drop the same columns as in training (those with >20% missing)\n",
    "cols_to_drop = ['Alley', 'PoolQC', 'Fence', 'MiscFeature', 'FireplaceQu']\n",
    "test_raw = test_raw.drop(columns=cols_to_drop)\n",
    "\n",
    "# Fill missing values: categorical with 'None'\n",
    "cat_cols = test_raw.select_dtypes(include='object').columns\n",
    "test_raw[cat_cols] = test_raw[cat_cols].fillna('None')\n",
    "\n",
    "# Fill numeric with median\n",
    "num_cols = test_raw.select_dtypes(include=np.number).columns\n",
    "test_raw[num_cols] = test_raw[num_cols].fillna(test_raw[num_cols].median())\n",
    "\n",
    "# Log1p transform the same skewed numeric features\n",
    "# (retrieved from the training data's skewed features)\n",
    "skewed_features = [\n",
    "    'LotFrontage', 'LotArea', 'MasVnrArea', 'BsmtFinSF1', 'BsmtFinSF2',\n",
    "    'BsmtUnfSF', 'TotalBsmtSF', '1stFlrSF', '2ndFlrSF', 'GrLivArea',\n",
    "    'GarageArea', 'WoodDeckSF', 'OpenPorchSF', 'EnclosedPorch',\n",
    "    '3SsnPorch', 'ScreenPorch', 'MiscVal'\n",
    "]\n",
    "for feature in skewed_features:\n",
    "    if feature in test_raw.columns:\n",
    "        test_raw[feature] = np.log1p(test_raw[feature])\n",
    "\n",
    "# One-hot encode\n",
    "test_encoded = pd.get_dummies(test_raw, drop_first=True)\n",
    "\n",
    "# Align test with training columns\n",
    "X_train = pd.read_csv('../data/processed_train.csv').drop('SalePrice', axis=1)\n",
    "X_test = test_encoded.reindex(columns=X_train.columns, fill_value=0)\n"
   ],
   "id": "71e05d3002f78104",
   "outputs": [],
   "execution_count": 2
  },
  {
   "metadata": {},
   "cell_type": "markdown",
   "source": "# Train Final Ridge Model on full training data",
   "id": "73c82efdc418ffb3"
  },
  {
   "metadata": {
    "ExecuteTime": {
     "end_time": "2025-06-28T17:14:26.337607Z",
     "start_time": "2025-06-28T17:14:26.291722Z"
    }
   },
   "cell_type": "code",
   "source": [
    "from sklearn.linear_model import Ridge\n",
    "import numpy as np\n",
    "\n",
    "# Load training data\n",
    "train_df = pd.read_csv('../data/processed_train.csv')\n",
    "X_train = train_df.drop('SalePrice', axis=1)\n",
    "y_train = train_df['SalePrice']\n",
    "\n",
    "# best alpha from Ridge tuning\n",
    "final_ridge = Ridge(alpha=10)\n",
    "final_ridge.fit(X_train, y_train)\n",
    "\n",
    "# Predict on test data\n",
    "preds_log = final_ridge.predict(X_test)\n",
    "\n",
    "# Reverse the log1p transform\n",
    "preds = np.expm1(preds_log)\n",
    "\n"
   ],
   "id": "98d0895a510692bb",
   "outputs": [],
   "execution_count": 3
  },
  {
   "metadata": {},
   "cell_type": "markdown",
   "source": "# Final Submission Format",
   "id": "7410399c4eb5088b"
  },
  {
   "metadata": {
    "ExecuteTime": {
     "end_time": "2025-06-28T17:14:26.437716Z",
     "start_time": "2025-06-28T17:14:26.413162Z"
    }
   },
   "cell_type": "code",
   "source": [
    "# Load test IDs\n",
    "test_ids = pd.read_csv('../data/test.csv')['Id']\n",
    "\n",
    "# Create submission DataFrame\n",
    "submission = pd.DataFrame({\n",
    "    'Id': test_ids,\n",
    "    'SalePrice': preds\n",
    "})\n",
    "\n",
    "# Save to CSV\n",
    "submission.to_csv('../data/kaggle_submission.csv', index=False)\n",
    "print(\"✅ Submission file saved to data/kaggle_submission.csv\")\n"
   ],
   "id": "9bea24b42249c5c2",
   "outputs": [
    {
     "name": "stdout",
     "output_type": "stream",
     "text": [
      "✅ Submission file saved to data/kaggle_submission.csv\n"
     ]
    }
   ],
   "execution_count": 4
  }
 ],
 "metadata": {
  "kernelspec": {
   "display_name": "Python 3",
   "language": "python",
   "name": "python3"
  },
  "language_info": {
   "codemirror_mode": {
    "name": "ipython",
    "version": 2
   },
   "file_extension": ".py",
   "mimetype": "text/x-python",
   "name": "python",
   "nbconvert_exporter": "python",
   "pygments_lexer": "ipython2",
   "version": "2.7.6"
  }
 },
 "nbformat": 4,
 "nbformat_minor": 5
}
